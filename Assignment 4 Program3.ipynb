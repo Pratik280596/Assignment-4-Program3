{
 "cells": [
  {
   "cell_type": "code",
   "execution_count": null,
   "id": "8a5d7170",
   "metadata": {},
   "outputs": [],
   "source": [
    "#Write a Python program to square the elements of a list using map() function."
   ]
  },
  {
   "cell_type": "code",
   "execution_count": 2,
   "id": "9918debe",
   "metadata": {},
   "outputs": [
    {
     "name": "stdout",
     "output_type": "stream",
     "text": [
      "Original List:  [4, 5, 2, 9]\n",
      "Square the elements of the said list using map():\n",
      "[16, 25, 4, 81]\n"
     ]
    }
   ],
   "source": [
    "#Defining square\n",
    "def square(n):\n",
    "  return n * n   #Doing square Operation\n",
    "\n",
    "#Delcaring list\n",
    "number = [4, 5, 2, 9]\n",
    "\n",
    "#Printing list\n",
    "print(\"Original List: \",number)\n",
    "\n",
    "#Performing Operation\n",
    "result = map(square, number)\n",
    "\n",
    "#Printing Line\n",
    "print(\"Square the elements of the said list using map():\")\n",
    "\n",
    "#Printing Result\n",
    "print(list(result))"
   ]
  },
  {
   "cell_type": "code",
   "execution_count": null,
   "id": "dc7ed29d",
   "metadata": {},
   "outputs": [],
   "source": []
  }
 ],
 "metadata": {
  "kernelspec": {
   "display_name": "Python 3 (ipykernel)",
   "language": "python",
   "name": "python3"
  },
  "language_info": {
   "codemirror_mode": {
    "name": "ipython",
    "version": 3
   },
   "file_extension": ".py",
   "mimetype": "text/x-python",
   "name": "python",
   "nbconvert_exporter": "python",
   "pygments_lexer": "ipython3",
   "version": "3.7.0"
  }
 },
 "nbformat": 4,
 "nbformat_minor": 5
}
